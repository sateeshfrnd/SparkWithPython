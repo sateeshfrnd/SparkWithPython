{
 "cells": [
  {
   "cell_type": "code",
   "execution_count": 1,
   "id": "09964f4a",
   "metadata": {},
   "outputs": [
    {
     "data": {
      "text/html": [
       "\n",
       "            <div>\n",
       "                <p><b>SparkSession - in-memory</b></p>\n",
       "                \n",
       "        <div>\n",
       "            <p><b>SparkContext</b></p>\n",
       "\n",
       "            <p><a href=\"http://DESKTOP-O9UJUJO.mshome.net:4040\">Spark UI</a></p>\n",
       "\n",
       "            <dl>\n",
       "              <dt>Version</dt>\n",
       "                <dd><code>v3.1.1</code></dd>\n",
       "              <dt>Master</dt>\n",
       "                <dd><code>local[*]</code></dd>\n",
       "              <dt>AppName</dt>\n",
       "                <dd><code>analyse-movie-data</code></dd>\n",
       "            </dl>\n",
       "        </div>\n",
       "        \n",
       "            </div>\n",
       "        "
      ],
      "text/plain": [
       "<pyspark.sql.session.SparkSession at 0x1cefd209d68>"
      ]
     },
     "execution_count": 1,
     "metadata": {},
     "output_type": "execute_result"
    }
   ],
   "source": [
    "from __future__ import print_function\n",
    "import findspark\n",
    "findspark.init()\n",
    "import pyspark\n",
    "from pyspark.sql import SparkSession\n",
    "spark = SparkSession.builder.appName(\"analyse-movie-data\").getOrCreate()\n",
    "spark"
   ]
  },
  {
   "cell_type": "code",
   "execution_count": 2,
   "id": "4eb6a6a5",
   "metadata": {},
   "outputs": [],
   "source": [
    "df = (\n",
    "        spark.read\n",
    "        .format(\"csv\")\n",
    "        .option(\"header\", \"true\")\n",
    "        .option(\"inferSchema\",\"true\")\n",
    "        .option(\"mode\",\"DROPMALFORMED\")\n",
    "        .load('data.csv')\n",
    "    )"
   ]
  },
  {
   "cell_type": "code",
   "execution_count": 3,
   "id": "b6b1ac90",
   "metadata": {},
   "outputs": [
    {
     "name": "stdout",
     "output_type": "stream",
     "text": [
      "root\n",
      " |-- movieId: integer (nullable = true)\n",
      " |-- title: string (nullable = true)\n",
      " |-- genres: string (nullable = true)\n",
      "\n"
     ]
    }
   ],
   "source": [
    "df.printSchema()"
   ]
  },
  {
   "cell_type": "code",
   "execution_count": 4,
   "id": "d7ad0250",
   "metadata": {},
   "outputs": [
    {
     "name": "stdout",
     "output_type": "stream",
     "text": [
      "+-------+--------------------+--------------------+\n",
      "|movieId|               title|              genres|\n",
      "+-------+--------------------+--------------------+\n",
      "|      1|    Toy Story (1995)|Adventure-Animati...|\n",
      "|      2|      Jumanji (1995)|Adventure-Childre...|\n",
      "|      3|Grumpier Old Men ...|      Comedy-Romance|\n",
      "|      4|Waiting to Exhale...|Comedy-Drama-Romance|\n",
      "|      5|    Jumanji-1 (2019)|Adventure-Childre...|\n",
      "|      6|    Jumanji-2 (2020)|Adventure-Childre...|\n",
      "+-------+--------------------+--------------------+\n",
      "\n"
     ]
    }
   ],
   "source": [
    "df.show(truncate=False)"
   ]
  },
  {
   "cell_type": "code",
   "execution_count": 5,
   "id": "b32aebaf",
   "metadata": {},
   "outputs": [],
   "source": [
    "import pyspark.sql.functions as f\n",
    "movie_title = f.regexp_extract(f.col('title'),'^(.+)\\s\\(([0-9]{4})\\)$', 1)\n",
    "year = f.regexp_extract(f.col('title'),'^(.+)\\s\\(([0-9]{4})\\)$', 2).cast('int')\n",
    "genres = f.explode(f.split(df.genres,\"-\"))\n",
    "decade = f.concat_ws('-', (f.floor(f.col(\"year\")/10)*10), (f.floor(f.col(\"year\")/10)*10) + f.lit(9))\n",
    "movies = (\n",
    "    df.withColumn('movie_title', movie_title)\n",
    "    .withColumn('year', year)\n",
    "    .withColumn('genres', genres)\n",
    "    .withColumn(\"decade\", decade)\n",
    ")"
   ]
  },
  {
   "cell_type": "code",
   "execution_count": 6,
   "id": "1454f94b",
   "metadata": {},
   "outputs": [
    {
     "name": "stdout",
     "output_type": "stream",
     "text": [
      "root\n",
      " |-- movieId: integer (nullable = true)\n",
      " |-- title: string (nullable = true)\n",
      " |-- genres: string (nullable = true)\n",
      " |-- movie_title: string (nullable = true)\n",
      " |-- year: integer (nullable = true)\n",
      " |-- decade: string (nullable = false)\n",
      "\n"
     ]
    }
   ],
   "source": [
    "movies.printSchema()"
   ]
  },
  {
   "cell_type": "code",
   "execution_count": 7,
   "id": "5f708ba6",
   "metadata": {},
   "outputs": [
    {
     "name": "stdout",
     "output_type": "stream",
     "text": [
      "+-------+------------------------+---------+-----------------+----+---------+\n",
      "|movieId|title                   |genres   |movie_title      |year|decade   |\n",
      "+-------+------------------------+---------+-----------------+----+---------+\n",
      "|1      |Toy Story (1995)        |Adventure|Toy Story        |1995|1990-1999|\n",
      "|1      |Toy Story (1995)        |Animation|Toy Story        |1995|1990-1999|\n",
      "|1      |Toy Story (1995)        |Children |Toy Story        |1995|1990-1999|\n",
      "|1      |Toy Story (1995)        |Comedy   |Toy Story        |1995|1990-1999|\n",
      "|1      |Toy Story (1995)        |Fantasy  |Toy Story        |1995|1990-1999|\n",
      "|2      |Jumanji (1995)          |Adventure|Jumanji          |1995|1990-1999|\n",
      "|2      |Jumanji (1995)          |Children |Jumanji          |1995|1990-1999|\n",
      "|2      |Jumanji (1995)          |Fantasy  |Jumanji          |1995|1990-1999|\n",
      "|3      |Grumpier Old Men (1995) |Comedy   |Grumpier Old Men |1995|1990-1999|\n",
      "|3      |Grumpier Old Men (1995) |Romance  |Grumpier Old Men |1995|1990-1999|\n",
      "|4      |Waiting to Exhale (1995)|Comedy   |Waiting to Exhale|1995|1990-1999|\n",
      "|4      |Waiting to Exhale (1995)|Drama    |Waiting to Exhale|1995|1990-1999|\n",
      "|4      |Waiting to Exhale (1995)|Romance  |Waiting to Exhale|1995|1990-1999|\n",
      "|5      |Jumanji-1 (2019)        |Adventure|Jumanji-1        |2019|2010-2019|\n",
      "|5      |Jumanji-1 (2019)        |Children |Jumanji-1        |2019|2010-2019|\n",
      "|5      |Jumanji-1 (2019)        |Fantasy  |Jumanji-1        |2019|2010-2019|\n",
      "|6      |Jumanji-2 (2020)        |Adventure|Jumanji-2        |2020|2020-2029|\n",
      "|6      |Jumanji-2 (2020)        |Children |Jumanji-2        |2020|2020-2029|\n",
      "|6      |Jumanji-2 (2020)        |Fantasy  |Jumanji-2        |2020|2020-2029|\n",
      "+-------+------------------------+---------+-----------------+----+---------+\n",
      "\n"
     ]
    }
   ],
   "source": [
    "movies.show(truncate=False)"
   ]
  },
  {
   "cell_type": "code",
   "execution_count": 8,
   "id": "d6c90f02",
   "metadata": {},
   "outputs": [
    {
     "name": "stdout",
     "output_type": "stream",
     "text": [
      "+---------+-----------+-----+\n",
      "|   decade|     genres|count|\n",
      "+---------+-----------+-----+\n",
      "|         |Horror53133|    1|\n",
      "|1990-1999|  Adventure|    2|\n",
      "|1990-1999|  Animation|    1|\n",
      "|1990-1999|   Children|    2|\n",
      "|1990-1999|     Comedy|    3|\n",
      "|1990-1999|      Drama|    1|\n",
      "|1990-1999|    Fantasy|    2|\n",
      "|1990-1999|    Romance|    2|\n",
      "|2010-2019|  Adventure|    1|\n",
      "|2010-2019|   Children|    1|\n",
      "|2010-2019|    Fantasy|    1|\n",
      "|2020-2029|  Adventure|    1|\n",
      "|2020-2029|   Children|    1|\n",
      "|2020-2029|    Fantasy|    1|\n",
      "+---------+-----------+-----+\n",
      "\n"
     ]
    }
   ],
   "source": [
    "movies.groupby('decade','genres').count().orderBy('decade','genres').show()"
   ]
  },
  {
   "cell_type": "code",
   "execution_count": 9,
   "id": "3e0a4005",
   "metadata": {},
   "outputs": [
    {
     "name": "stdout",
     "output_type": "stream",
     "text": [
      "+-------+--------------------+--------------------+\n",
      "|movieId|               title|              genres|\n",
      "+-------+--------------------+--------------------+\n",
      "|      1|    Toy Story (1995)|Adventure-Animati...|\n",
      "|   null|               Them |         Horror53133|\n",
      "|      2|      Jumanji (1995)|Adventure-Childre...|\n",
      "|      3|Grumpier Old Men ...|      Comedy-Romance|\n",
      "|      4|Waiting to Exhale...|Comedy-Drama-Romance|\n",
      "|      5|    Jumanji-1 (2019)|Adventure-Childre...|\n",
      "|      6|    Jumanji-2 (2020)|Adventure-Childre...|\n",
      "+-------+--------------------+--------------------+\n",
      "\n"
     ]
    }
   ],
   "source": [
    "(\n",
    "    spark.read\n",
    "        .format(\"csv\")\n",
    "        .option(\"header\", \"true\")\n",
    "        .option(\"inferSchema\",\"true\")        \n",
    "        .load('data.csv')\n",
    ").show()"
   ]
  }
 ],
 "metadata": {
  "kernelspec": {
   "display_name": "Python 3",
   "language": "python",
   "name": "python3"
  },
  "language_info": {
   "codemirror_mode": {
    "name": "ipython",
    "version": 3
   },
   "file_extension": ".py",
   "mimetype": "text/x-python",
   "name": "python",
   "nbconvert_exporter": "python",
   "pygments_lexer": "ipython3",
   "version": "3.6.9"
  }
 },
 "nbformat": 4,
 "nbformat_minor": 5
}
